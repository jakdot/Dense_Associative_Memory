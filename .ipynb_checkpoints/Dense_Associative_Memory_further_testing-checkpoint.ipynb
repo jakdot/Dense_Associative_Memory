{
 "cells": [
  {
   "cell_type": "markdown",
   "metadata": {},
   "source": [
    "### This code further explores Dense Associative Memories from [Dense Associative Memory for Pattern Recognition](https://arxiv.org/abs/1606.01164) on MNIST data set.\n"
   ]
  },
  {
   "cell_type": "markdown",
   "metadata": {},
   "source": [
    "This cell loads the data and normalizes it to the [-1,1] range"
   ]
  },
  {
   "cell_type": "code",
   "execution_count": 95,
   "metadata": {},
   "outputs": [],
   "source": [
    "import pickle\n",
    "\n",
    "import scipy.io\n",
    "import numpy as np\n",
    "import matplotlib.pyplot as plt\n",
    "mat = scipy.io.loadmat('mnist_all.mat')\n",
    "\n",
    "N=784\n",
    "Nc=10\n",
    "Ns=60000\n",
    "NsT=10000\n",
    "\n",
    "M=np.zeros((0,N))\n",
    "Lab=np.zeros((Nc,0))\n",
    "for i in range(Nc):\n",
    "    M=np.concatenate((M, mat['train'+str(i)]), axis=0)\n",
    "    lab1=-np.ones((Nc,mat['train'+str(i)].shape[0]))\n",
    "    lab1[i,:]=1.0\n",
    "    Lab=np.concatenate((Lab,lab1), axis=1)\n",
    "\n",
    "M=2*M/255.0-1\n",
    "M=M.T\n",
    "\n",
    "# M.shape = 784, 60 000: rows: pixels, columns: training items\n",
    "# Lab.shape = 10, 60 000: rows: labels, columns: training items\n",
    "    \n",
    "MT=np.zeros((0,N))\n",
    "LabT=np.zeros((Nc,0))\n",
    "for i in range(Nc):\n",
    "    MT=np.concatenate((MT, mat['test'+str(i)]), axis=0)\n",
    "    lab1=-np.ones((Nc,mat['test'+str(i)].shape[0]))\n",
    "    lab1[i,:]=1.0\n",
    "    LabT=np.concatenate((LabT,lab1), axis=1)\n",
    "MT=2*MT/255.0-1\n",
    "MT=MT.T"
   ]
  },
  {
   "cell_type": "markdown",
   "metadata": {},
   "source": [
    "To draw a heatmap of the weights together with the errors on the training set (blue) and the test set (red) a helper function is created:"
   ]
  },
  {
   "cell_type": "code",
   "execution_count": 96,
   "metadata": {},
   "outputs": [],
   "source": [
    "def draw_weights(synapses, Kx, Ky, err_tr, err_test):\n",
    "    fig.clf()\n",
    "    ax1 = fig.add_subplot(121)\n",
    "    ax2 = fig.add_subplot(122)\n",
    "    \n",
    "    plt.sca(ax1)\n",
    "    yy=0\n",
    "    HM=np.zeros((28*Kx,28*Ky))\n",
    "    for y in range(Ky):\n",
    "        for x in range(Kx):\n",
    "            HM[y*28:(y+1)*28,x*28:(x+1)*28]=synapses[yy,:].reshape(28,28)\n",
    "            yy += 1\n",
    "    nc=np.amax(np.absolute(HM))\n",
    "    im=plt.imshow(HM,cmap='bwr',vmin=-nc,vmax=nc)\n",
    "    cbar=fig.colorbar(im,ticks=[np.amin(HM), 0, np.amax(HM)])\n",
    "    plt.axis('off')\n",
    "    cbar.ax.tick_params(labelsize=30) \n",
    "    \n",
    "    plt.sca(ax2)\n",
    "    plt.ylim((0,100))\n",
    "    plt.xlim((0,len(err_tr)+1))\n",
    "    ax2.plot(np.arange(1, len(err_tr)+1, 1), err_tr, color='b', linewidth=4)\n",
    "    ax2.plot(np.arange(1, len(err_test)+1, 1), err_test, color='r',linewidth=4)\n",
    "    ax2.set_xlabel('Number of epochs', size=30)\n",
    "    ax2.set_ylabel('Training and test error, %', size=30)\n",
    "    ax2.tick_params(labelsize=30)\n",
    "\n",
    "    plt.tight_layout()\n",
    "    fig.canvas.draw()"
   ]
  },
  {
   "cell_type": "markdown",
   "metadata": {},
   "source": [
    "To draw just the heatmap, use this code."
   ]
  },
  {
   "cell_type": "code",
   "execution_count": 97,
   "metadata": {},
   "outputs": [],
   "source": [
    "def draw_mnist(synapses, Kx, Ky):\n",
    "    fig.clf()\n",
    "    ax1 = fig.add_subplot(121)\n",
    "    \n",
    "    plt.sca(ax1)\n",
    "    yy=0\n",
    "    HM=np.zeros((28*Kx,28*Ky))\n",
    "    for y in range(Ky):\n",
    "        for x in range(Kx):\n",
    "            HM[y*28:(y+1)*28,x*28:(x+1)*28]=synapses[yy,:].reshape(28,28)\n",
    "            yy += 1\n",
    "    nc=np.amax(np.absolute(HM))\n",
    "    im=plt.imshow(HM,cmap='bwr',vmin=-nc,vmax=nc)\n",
    "    cbar=fig.colorbar(im,ticks=[np.amin(HM), 0, np.amax(HM)])\n",
    "    plt.axis('off')\n",
    "    cbar.ax.tick_params(labelsize=30) \n",
    "    \n",
    "    plt.tight_layout()\n",
    "    fig.canvas.draw()"
   ]
  },
  {
   "cell_type": "markdown",
   "metadata": {},
   "source": [
    "This cell defines parameters of the algorithm: `n` - power of the rectified polynomial in [Eq 3](https://arxiv.org/abs/1606.01164); `m` - power of the loss function in [Eq 14](https://arxiv.org/abs/1606.01164); `K` - number of memories that are displayed as an `Ky` by `Kx` array by the helper function defined above; `eps0` - initial learning rate that is exponentially annealed during training with the damping parameter `f`, as explained in [Eq 12](https://arxiv.org/abs/1606.01164); `p` - momentum as defined in [Eq 13](https://arxiv.org/abs/1606.01164); `mu` - the mean of the gaussian distribution that initializes the weights; `sigma` - the standard deviation of that gaussian; `Nep` - number of epochs; `Num` - size of the training minibatch; `NumT` - size of the test minibatch; `prec` - parameter that controls numerical precision of the weight updates. Parameter `beta` that is used in [Eq 9](https://arxiv.org/abs/1606.01164) is defined as `beta=1/Temp**n`. The choice of temperatures `Temp` as well as the duration of the annealing `thresh_pret` is discussed in [Appendix A](https://arxiv.org/abs/1606.01164). "
   ]
  },
  {
   "cell_type": "code",
   "execution_count": 127,
   "metadata": {},
   "outputs": [],
   "source": [
    "Kx=10              # Number of memories per row on the weights plot\n",
    "Ky=10              # Number of memories per column on the weigths plot\n",
    "K=Kx*Ky            # Number of memories\n",
    "n=20               # Power of the interaction vertex in the DAM energy function\n",
    "m=30               # Power of the loss function\n",
    "eps0=4.0e-2        # Initial learning rate  \n",
    "f=0.998            # Damping parameter for the learning rate\n",
    "p=0.6              # Momentum\n",
    "Nep=300            # Number of epochs\n",
    "Temp_in=400.       # Initial temperature\n",
    "Temp_f=400.        # Final temperature\n",
    "thresh_pret=200    # Length of the temperature ramp\n",
    "Num=1000           # Size of training minibatch     \n",
    "NumT=5000          # Size of test minibatch \n",
    "mu=-0.3            # Weights initialization mean\n",
    "sigma=0.3          # Weights initialization std\n",
    "prec=1.0e-30       # Precision of weight update\n",
    "\n",
    "Temp=Temp_f\n",
    "beta=1./Temp**n\n"
   ]
  },
  {
   "cell_type": "markdown",
   "metadata": {},
   "source": [
    "We load the trained network."
   ]
  },
  {
   "cell_type": "code",
   "execution_count": 117,
   "metadata": {},
   "outputs": [
    {
     "name": "stdout",
     "output_type": "stream",
     "text": [
      "(100, 794)\n"
     ]
    }
   ],
   "source": [
    "with open('trained-hopfield.pkl', 'rb') as loadfile:\n",
    "    KS = pickle.load(loadfile)\n",
    "\n",
    "print(KS.shape)\n"
   ]
  },
  {
   "cell_type": "markdown",
   "metadata": {},
   "source": [
    "We check it what it shows for some memories and what label it predicts. The first printed part is the label, the first visual memories are below."
   ]
  },
  {
   "cell_type": "code",
   "execution_count": 128,
   "metadata": {},
   "outputs": [
    {
     "name": "stdout",
     "output_type": "stream",
     "text": [
      "[2 3 5 0]\n",
      "[[ 0.77242541 -1.          1.         -0.13177608  0.71726229 -0.39447896\n",
      "   0.90452707 -0.25539149 -1.          1.        ]\n",
      " [-0.32517455  0.34678088  0.91590656  0.94685224  0.57896046  0.20374902\n",
      "  -0.96019278 -0.95418771 -0.27858677 -0.09379512]\n",
      " [-0.98222384 -0.99626098  0.95683716  0.58550825 -0.57302297  0.99646942\n",
      "  -0.17995807  0.94139988  0.72563168 -0.62488846]\n",
      " [ 0.92621593 -0.87663746 -0.99485082 -0.08510907  0.60332848 -0.97433915\n",
      "  -0.77339405  0.39323975  0.46820478  0.84300071]]\n"
     ]
    },
    {
     "data": {
      "image/png": "[encoded data removed]",
      "text/plain": [
       "<Figure size 600x400 with 2 Axes>"
      ]
     },
     "metadata": {},
     "output_type": "display_data"
    }
   ],
   "source": [
    "#%matplotlib inline\n",
    "#%matplotlib notebook\n",
    "fig=plt.figure(figsize=(6,4))\n",
    "\n",
    "draw_mnist(KS[20:24,:N], 2, 2)\n",
    "print(np.argmax(KS[20:24, N:(N+Nc)], axis=1))\n",
    "print(KS[20:24, N:(N+Nc)])"
   ]
  },
  {
   "cell_type": "markdown",
   "metadata": {},
   "source": [
    "We check the behavior on one example."
   ]
  },
  {
   "cell_type": "code",
   "execution_count": 118,
   "metadata": {},
   "outputs": [
    {
     "name": "stdout",
     "output_type": "stream",
     "text": [
      "[ 1. -1. -1. -1. -1. -1. -1. -1. -1. -1.]\n",
      "(784, 1)\n"
     ]
    }
   ],
   "source": [
    "example = MT[:,1:2]\n",
    "example_label = LabT[:, 1]\n",
    "print(example_label)\n",
    "print(example.shape)"
   ]
  },
  {
   "cell_type": "code",
   "execution_count": 129,
   "metadata": {},
   "outputs": [
    {
     "data": {
      "image/png": "[encoded data removed]",
      "text/plain": [
       "<Figure size 600x400 with 2 Axes>"
      ]
     },
     "metadata": {},
     "output_type": "display_data"
    }
   ],
   "source": [
    "fig=plt.figure(figsize=(6,4))\n",
    "draw_mnist(example.T, 1, 1)"
   ]
  },
  {
   "cell_type": "markdown",
   "metadata": {},
   "source": [
    "What does it predict? (The null is most likely, see the output of Y\\_R)."
   ]
  },
  {
   "cell_type": "code",
   "execution_count": 130,
   "metadata": {},
   "outputs": [
    {
     "name": "stdout",
     "output_type": "stream",
     "text": [
      "(784, 1)\n",
      "(794, 10)\n",
      "(100, 794)\n",
      "(794, 10)\n",
      "(100, 10)\n",
      "[[ 0.82195836]\n",
      " [-0.75621286]\n",
      " [-0.44344051]\n",
      " [-0.45116041]\n",
      " [-0.69114175]\n",
      " [-0.76663508]\n",
      " [-0.81486865]\n",
      " [-0.58320198]\n",
      " [-0.69724459]\n",
      " [-0.84974574]]\n"
     ]
    }
   ],
   "source": [
    "print(example.shape)\n",
    "        \n",
    "u=np.concatenate((example, -np.ones((Nc,1))),axis=0)\n",
    "uu=np.tile(u,(1,Nc))\n",
    "print(uu.shape)\n",
    "auxT=-np.ones((Nc,1*Nc))\n",
    "for d in range(Nc):\n",
    "    auxT[d,d:(d+1)]=1.\n",
    "vv=np.concatenate((uu[:784,:],auxT),axis=0)\n",
    "KSvv=np.maximum(np.dot(KS,vv),0)\n",
    "KSuu=np.maximum(np.dot(KS,uu),0)\n",
    "print(KS.shape)\n",
    "print(vv.shape)\n",
    "print(KSvv.shape)\n",
    "Y=np.tanh(beta*np.sum(KSvv**n-KSuu**n, axis=0))  # Forward path, Eq 9\n",
    "Y_R=np.reshape(Y,(Nc,1))\n",
    "print(Y_R)"
   ]
  },
  {
   "cell_type": "markdown",
   "metadata": {},
   "source": [
    "Iterating through memory. Running the update of classification neurons twice."
   ]
  },
  {
   "cell_type": "code",
   "execution_count": 131,
   "metadata": {},
   "outputs": [
    {
     "name": "stdout",
     "output_type": "stream",
     "text": [
      "[[ 0.80178993]\n",
      " [-0.74779354]\n",
      " [-0.44266543]\n",
      " [-0.4341758 ]\n",
      " [-0.67304667]\n",
      " [-0.78702432]\n",
      " [-0.81722805]\n",
      " [-0.57968222]\n",
      " [-0.69680825]\n",
      " [-0.8567989 ]]\n"
     ]
    }
   ],
   "source": [
    "auxneg=np.tile(Y_R, Nc)\n",
    "for d in range(Nc):\n",
    "    auxneg[d,d:(d+1)]=-1.\n",
    "uu=np.concatenate((np.tile(example, Nc), auxneg),axis=0)\n",
    "auxT=np.tile(Y_R, Nc)\n",
    "for d in range(Nc):\n",
    "    auxT[d,d:(d+1)]=1.\n",
    "vv=np.concatenate((uu[:784,:],auxT),axis=0)\n",
    "KSvv=np.maximum(np.dot(KS,vv),0)\n",
    "KSuu=np.maximum(np.dot(KS,uu),0)\n",
    "Y=np.tanh(beta*np.sum(KSvv**n-KSuu**n, axis=0))  # Forward path, Eq 9\n",
    "Y_R=np.reshape(Y,(Nc,1))\n",
    "print(Y_R)"
   ]
  },
  {
   "cell_type": "markdown",
   "metadata": {},
   "source": [
    "Check how test error is affected if we run the update function multiple times."
   ]
  },
  {
   "cell_type": "code",
   "execution_count": 132,
   "metadata": {},
   "outputs": [
    {
     "name": "stdout",
     "output_type": "stream",
     "text": [
      "Error test\n",
      "[2.4800000000000044]\n"
     ]
    }
   ],
   "source": [
    "auxT=-np.ones((Nc,NumT*Nc))\n",
    "for d in range(Nc):\n",
    "    auxT[d,d*NumT:(d+1)*NumT]=1.\n",
    "    \n",
    "err_tr=[]\n",
    "err_test=[]\n",
    "for nep in range(1):\n",
    "    \n",
    "    eps=eps0*f**nep\n",
    "    # set temperature\n",
    "    if nep<=thresh_pret:\n",
    "        Temp=Temp_in+(Temp_f-Temp_in)*nep/thresh_pret\n",
    "    else:\n",
    "        Temp=Temp_f\n",
    "    beta=1./Temp**n\n",
    "    \n",
    "    # permutate\n",
    "    \n",
    "    perm=np.random.permutation(Ns)\n",
    "    M=M[:,perm]\n",
    "    Lab=Lab[:,perm]\n",
    "    \n",
    "    num_correct = 0\n",
    "    for k in range(NsT//NumT):\n",
    "        v=MT[:,k*NumT:(k+1)*NumT]\n",
    "        t_R=LabT[:,k*NumT:(k+1)*NumT]\n",
    "        u=np.concatenate((v, -np.ones((Nc,NumT))),axis=0)\n",
    "        uu=np.tile(u,(1,Nc))\n",
    "        vv=np.concatenate((uu[:N,:],auxT),axis=0)\n",
    "        KSvv=np.maximum(np.dot(KS,vv),0)\n",
    "        KSuu=np.maximum(np.dot(KS,uu),0)\n",
    "        Y=np.tanh(beta*np.sum(KSvv**n-KSuu**n, axis=0))  # Forward path, Eq 9\n",
    "        Y_R=np.reshape(Y,(Nc,NumT))\n",
    "        correct=np.argmax(Y_R,axis=0)==np.argmax(t_R,axis=0)\n",
    "        num_correct += np.sum(correct)\n",
    "    errr=100.*(1.0-num_correct/NsT)\n",
    "    err_test.append(errr)\n",
    "    print(\"Error test\")\n",
    "    print(err_test)"
   ]
  },
  {
   "cell_type": "code",
   "execution_count": 134,
   "metadata": {},
   "outputs": [
    {
     "name": "stdout",
     "output_type": "stream",
     "text": [
      "Error test\n",
      "[2.5499999999999967]\n"
     ]
    }
   ],
   "source": [
    "auxT=-np.ones((Nc,NumT*Nc))\n",
    "for d in range(Nc):\n",
    "    auxT[d,d*NumT:(d+1)*NumT]=1.\n",
    "    \n",
    "err_tr=[]\n",
    "err_test=[]\n",
    "for nep in range(1):\n",
    "    \n",
    "    eps=eps0*f**nep\n",
    "    # set temperature\n",
    "    if nep<=thresh_pret:\n",
    "        Temp=Temp_in+(Temp_f-Temp_in)*nep/thresh_pret\n",
    "    else:\n",
    "        Temp=Temp_f\n",
    "    beta=1./Temp**n\n",
    "    \n",
    "    # permutate\n",
    "    \n",
    "    perm=np.random.permutation(Ns)\n",
    "    M=M[:,perm]\n",
    "    Lab=Lab[:,perm]\n",
    "    \n",
    "    num_correct = 0\n",
    "    for k in range(NsT//NumT):\n",
    "        v=MT[:,k*NumT:(k+1)*NumT]\n",
    "        t_R=LabT[:,k*NumT:(k+1)*NumT]\n",
    "        u=np.concatenate((v, -np.ones((Nc,NumT))),axis=0)\n",
    "        uu=np.tile(u,(1,Nc))\n",
    "        vv=np.concatenate((uu[:N,:],auxT),axis=0)\n",
    "        KSvv=np.maximum(np.dot(KS,vv),0)\n",
    "        KSuu=np.maximum(np.dot(KS,uu),0)\n",
    "        Y=np.tanh(beta*np.sum(KSvv**n-KSuu**n, axis=0))  # Forward path, Eq 9\n",
    "        Y_R=np.reshape(Y,(Nc,NumT))\n",
    "        auxneg=np.tile(Y_R, Nc)\n",
    "        for d in range(Nc):\n",
    "            auxneg[d,d*NumT:(d+1)*NumT]=-1.\n",
    "        uu=np.concatenate((np.tile(v, Nc), auxneg),axis=0)\n",
    "        auxT=np.tile(Y_R, Nc)\n",
    "        for d in range(Nc):\n",
    "            auxT[d,d*NumT:(d+1)*NumT]=1.\n",
    "        vv=np.concatenate((uu[:784,:],auxT),axis=0)\n",
    "        \n",
    "        KSvv=np.maximum(np.dot(KS,vv),0)\n",
    "        KSuu=np.maximum(np.dot(KS,uu),0)\n",
    "        Y=np.tanh(beta*np.sum(KSvv**n-KSuu**n, axis=0))  # Forward path, Eq 9\n",
    "        Y_R=np.reshape(Y,(Nc,NumT))\n",
    "\n",
    "        correct=np.argmax(Y_R,axis=0)==np.argmax(t_R,axis=0)\n",
    "        num_correct += np.sum(correct)\n",
    "    errr=100.*(1.0-num_correct/NsT)\n",
    "    err_test.append(errr)\n",
    "    print(\"Error test\")\n",
    "    print(err_test)"
   ]
  },
  {
   "cell_type": "code",
   "execution_count": 135,
   "metadata": {},
   "outputs": [
    {
     "name": "stdout",
     "output_type": "stream",
     "text": [
      "Error test\n",
      "[2.5900000000000034]\n"
     ]
    }
   ],
   "source": [
    "auxT=-np.ones((Nc,NumT*Nc))\n",
    "for d in range(Nc):\n",
    "    auxT[d,d*NumT:(d+1)*NumT]=1.\n",
    "    \n",
    "err_tr=[]\n",
    "err_test=[]\n",
    "for nep in range(1):\n",
    "    \n",
    "    eps=eps0*f**nep\n",
    "    # set temperature\n",
    "    if nep<=thresh_pret:\n",
    "        Temp=Temp_in+(Temp_f-Temp_in)*nep/thresh_pret\n",
    "    else:\n",
    "        Temp=Temp_f\n",
    "    beta=1./Temp**n\n",
    "    \n",
    "    # permutate\n",
    "    \n",
    "    perm=np.random.permutation(Ns)\n",
    "    M=M[:,perm]\n",
    "    Lab=Lab[:,perm]\n",
    "    \n",
    "    num_correct = 0\n",
    "    for k in range(NsT//NumT):\n",
    "        v=MT[:,k*NumT:(k+1)*NumT]\n",
    "        t_R=LabT[:,k*NumT:(k+1)*NumT]\n",
    "        u=np.concatenate((v, -np.ones((Nc,NumT))),axis=0)\n",
    "        uu=np.tile(u,(1,Nc))\n",
    "        vv=np.concatenate((uu[:N,:],auxT),axis=0)\n",
    "        KSvv=np.maximum(np.dot(KS,vv),0)\n",
    "        KSuu=np.maximum(np.dot(KS,uu),0)\n",
    "        Y=np.tanh(beta*np.sum(KSvv**n-KSuu**n, axis=0))  # Forward path, Eq 9\n",
    "        Y_R=np.reshape(Y,(Nc,NumT))\n",
    "        auxneg=np.tile(Y_R, Nc)\n",
    "        for d in range(Nc):\n",
    "            auxneg[d,d*NumT:(d+1)*NumT]=-1.\n",
    "        uu=np.concatenate((np.tile(v, Nc), auxneg),axis=0)\n",
    "        auxT=np.tile(Y_R, Nc)\n",
    "        for d in range(Nc):\n",
    "            auxT[d,d*NumT:(d+1)*NumT]=1.\n",
    "        vv=np.concatenate((uu[:784,:],auxT),axis=0)\n",
    "        \n",
    "        KSvv=np.maximum(np.dot(KS,vv),0)\n",
    "        KSuu=np.maximum(np.dot(KS,uu),0)\n",
    "        Y=np.tanh(beta*np.sum(KSvv**n-KSuu**n, axis=0))  # Forward path, Eq 9\n",
    "        Y_R=np.reshape(Y,(Nc,NumT))\n",
    "        \n",
    "        auxneg=np.tile(Y_R, Nc)\n",
    "        for d in range(Nc):\n",
    "            auxneg[d,d*NumT:(d+1)*NumT]=-1.\n",
    "        uu=np.concatenate((np.tile(v, Nc), auxneg),axis=0)\n",
    "        auxT=np.tile(Y_R, Nc)\n",
    "        for d in range(Nc):\n",
    "            auxT[d,d*NumT:(d+1)*NumT]=1.\n",
    "        vv=np.concatenate((uu[:784,:],auxT),axis=0)\n",
    "        \n",
    "        KSvv=np.maximum(np.dot(KS,vv),0)\n",
    "        KSuu=np.maximum(np.dot(KS,uu),0)\n",
    "        Y=np.tanh(beta*np.sum(KSvv**n-KSuu**n, axis=0))  # Forward path, Eq 9\n",
    "        Y_R=np.reshape(Y,(Nc,NumT))\n",
    "\n",
    "        correct=np.argmax(Y_R,axis=0)==np.argmax(t_R,axis=0)\n",
    "        num_correct += np.sum(correct)\n",
    "    errr=100.*(1.0-num_correct/NsT)\n",
    "    err_test.append(errr)\n",
    "    print(\"Error test\")\n",
    "    print(err_test)"
   ]
  },
  {
   "cell_type": "code",
   "execution_count": 136,
   "metadata": {},
   "outputs": [
    {
     "name": "stdout",
     "output_type": "stream",
     "text": [
      "Error test\n",
      "[2.5900000000000034]\n"
     ]
    }
   ],
   "source": [
    "\n",
    "err_tr=[]\n",
    "err_test=[]\n",
    "for nep in range(1):\n",
    "    \n",
    "    eps=eps0*f**nep\n",
    "    # set temperature\n",
    "    if nep<=thresh_pret:\n",
    "        Temp=Temp_in+(Temp_f-Temp_in)*nep/thresh_pret\n",
    "    else:\n",
    "        Temp=Temp_f\n",
    "    beta=1./Temp**n\n",
    "    \n",
    "    # permutate\n",
    "    \n",
    "    perm=np.random.permutation(Ns)\n",
    "    M=M[:,perm]\n",
    "    Lab=Lab[:,perm]\n",
    "    \n",
    "    num_correct = 0\n",
    "    for k in range(NsT//NumT):\n",
    "        v=MT[:,k*NumT:(k+1)*NumT]\n",
    "        t_R=LabT[:,k*NumT:(k+1)*NumT]\n",
    "        u=np.concatenate((v, -np.ones((Nc,NumT))),axis=0)\n",
    "        uu=np.tile(u,(1,Nc))\n",
    "        vv=np.concatenate((uu[:N,:],auxT),axis=0)\n",
    "        KSvv=np.maximum(np.dot(KS,vv),0)\n",
    "        KSuu=np.maximum(np.dot(KS,uu),0)\n",
    "        Y=np.tanh(beta*np.sum(KSvv**n-KSuu**n, axis=0))  # Forward path, Eq 9\n",
    "        Y_R=np.reshape(Y,(Nc,NumT))\n",
    "        auxneg=np.tile(Y_R, Nc)\n",
    "        for d in range(Nc):\n",
    "            auxneg[d,d*NumT:(d+1)*NumT]=-1.\n",
    "        uu=np.concatenate((np.tile(v, Nc), auxneg),axis=0)\n",
    "        auxT=np.tile(Y_R, Nc)\n",
    "        for d in range(Nc):\n",
    "            auxT[d,d*NumT:(d+1)*NumT]=1.\n",
    "        vv=np.concatenate((uu[:784,:],auxT),axis=0)\n",
    "        \n",
    "        KSvv=np.maximum(np.dot(KS,vv),0)\n",
    "        KSuu=np.maximum(np.dot(KS,uu),0)\n",
    "        Y=np.tanh(beta*np.sum(KSvv**n-KSuu**n, axis=0))  # Forward path, Eq 9\n",
    "        Y_R=np.reshape(Y,(Nc,NumT))\n",
    "        \n",
    "        auxneg=np.tile(Y_R, Nc)\n",
    "        for d in range(Nc):\n",
    "            auxneg[d,d*NumT:(d+1)*NumT]=-1.\n",
    "        uu=np.concatenate((np.tile(v, Nc), auxneg),axis=0)\n",
    "        auxT=np.tile(Y_R, Nc)\n",
    "        for d in range(Nc):\n",
    "            auxT[d,d*NumT:(d+1)*NumT]=1.\n",
    "        vv=np.concatenate((uu[:784,:],auxT),axis=0)\n",
    "        \n",
    "        KSvv=np.maximum(np.dot(KS,vv),0)\n",
    "        KSuu=np.maximum(np.dot(KS,uu),0)\n",
    "        Y=np.tanh(beta*np.sum(KSvv**n-KSuu**n, axis=0))  # Forward path, Eq 9\n",
    "        Y_R=np.reshape(Y,(Nc,NumT))\n",
    "        \n",
    "        auxneg=np.tile(Y_R, Nc)\n",
    "        for d in range(Nc):\n",
    "            auxneg[d,d*NumT:(d+1)*NumT]=-1.\n",
    "        uu=np.concatenate((np.tile(v, Nc), auxneg),axis=0)\n",
    "        auxT=np.tile(Y_R, Nc)\n",
    "        for d in range(Nc):\n",
    "            auxT[d,d*NumT:(d+1)*NumT]=1.\n",
    "        vv=np.concatenate((uu[:784,:],auxT),axis=0)\n",
    "        \n",
    "        KSvv=np.maximum(np.dot(KS,vv),0)\n",
    "        KSuu=np.maximum(np.dot(KS,uu),0)\n",
    "        Y=np.tanh(beta*np.sum(KSvv**n-KSuu**n, axis=0))  # Forward path, Eq 9\n",
    "        Y_R=np.reshape(Y,(Nc,NumT))\n",
    "\n",
    "        correct=np.argmax(Y_R,axis=0)==np.argmax(t_R,axis=0)\n",
    "        num_correct += np.sum(correct)\n",
    "    errr=100.*(1.0-num_correct/NsT)\n",
    "    err_test.append(errr)\n",
    "    print(\"Error test\")\n",
    "    print(err_test)"
   ]
  },
  {
   "cell_type": "markdown",
   "metadata": {},
   "source": [
    "Testing the visual neurons, not classification neurons. We test whether the memory can recoved an occluded object."
   ]
  },
  {
   "cell_type": "code",
   "execution_count": 137,
   "metadata": {},
   "outputs": [
    {
     "name": "stdout",
     "output_type": "stream",
     "text": [
      "(784, 1)\n",
      "(794, 1)\n"
     ]
    },
    {
     "data": {
      "image/png": "[encoded data removed]",
      "text/plain": [
       "<Figure size 600x400 with 2 Axes>"
      ]
     },
     "metadata": {},
     "output_type": "display_data"
    }
   ],
   "source": [
    "fig=plt.figure(figsize=(6,4))\n",
    "\n",
    "print(example.shape)\n",
    "\n",
    "u=np.concatenate((example[:3*N//4], -np.ones((1*N//4 + Nc,1))),axis=0)\n",
    "print(u.shape)\n",
    "draw_mnist(u[:784,:].T, 1, 1)"
   ]
  },
  {
   "cell_type": "code",
   "execution_count": 138,
   "metadata": {},
   "outputs": [
    {
     "name": "stdout",
     "output_type": "stream",
     "text": [
      "(794, 206)\n",
      "(794, 206)\n",
      "(100, 794)\n",
      "(794, 206)\n",
      "(100, 206)\n",
      "(206, 1)\n",
      "[[ 0.2788103 ]\n",
      " [-0.44173208]\n",
      " [-0.29317427]\n",
      " [-0.28525502]\n",
      " [-0.22208325]\n",
      " [-0.40177393]\n",
      " [-0.40780792]\n",
      " [-0.26307501]\n",
      " [-0.26604629]\n",
      " [-0.41393077]]\n"
     ]
    }
   ],
   "source": [
    "\n",
    "uu=np.tile(u,(1,1*N//4 + Nc))\n",
    "print(uu.shape)\n",
    "auxT=-np.ones((1*N//4 + Nc,1*N//4 + Nc))\n",
    "for d in range(1*N//4 + Nc):\n",
    "    auxT[d,d:(d+1)]=1.\n",
    "vv=np.concatenate((uu[:3*N//4,:],auxT),axis=0)\n",
    "print(vv.shape)\n",
    "KSvv=np.maximum(np.dot(KS,vv),0)\n",
    "KSuu=np.maximum(np.dot(KS,uu),0)\n",
    "print(KS.shape)\n",
    "print(vv.shape)\n",
    "print(KSvv.shape)\n",
    "Y=np.tanh(beta*np.sum(KSvv**n-KSuu**n, axis=0))  # Forward path, Eq 9\n",
    "Y_R=np.reshape(Y,(1*N//4 + Nc,1))\n",
    "print(Y_R.shape)\n",
    "print(Y_R[-10:,:])"
   ]
  },
  {
   "cell_type": "code",
   "execution_count": 139,
   "metadata": {},
   "outputs": [
    {
     "name": "stdout",
     "output_type": "stream",
     "text": [
      "(794, 1)\n"
     ]
    },
    {
     "data": {
      "text/plain": [
       "0"
      ]
     },
     "execution_count": 139,
     "metadata": {},
     "output_type": "execute_result"
    },
    {
     "data": {
      "image/png": "[encoded data removed]",
      "text/plain": [
       "<Figure size 600x400 with 2 Axes>"
      ]
     },
     "metadata": {},
     "output_type": "display_data"
    }
   ],
   "source": [
    "fig=plt.figure(figsize=(6,4))\n",
    "\n",
    "result=np.concatenate((example[:3*N//4], Y_R),axis=0)\n",
    "print(result.shape)\n",
    "draw_mnist(result[:784, :].T, 1, 1)\n",
    "np.argmax(Y_R[-10:, :], axis=0)[0]"
   ]
  },
  {
   "cell_type": "markdown",
   "metadata": {},
   "source": [
    "Reconstruct an example from a label."
   ]
  },
  {
   "cell_type": "code",
   "execution_count": 140,
   "metadata": {},
   "outputs": [],
   "source": [
    "def repeat_recall(Y_R, uu, N):\n",
    "    \n",
    "    auxneg=np.tile(Y_R, N)\n",
    "    \n",
    "    for d in range(N):\n",
    "        auxneg[d,d:(d+1)]=-1.\n",
    "        \n",
    "    uu=np.concatenate((auxneg, uu[N:,:]),axis=0)\n",
    "    \n",
    "    auxT=np.tile(Y_R, N)\n",
    "    \n",
    "    for d in range(N):\n",
    "        auxT[d,d:(d+1)]=1.\n",
    "        \n",
    "    vv=np.concatenate((auxT, uu[N:,:]),axis=0)\n",
    "\n",
    "    return uu, vv"
   ]
  },
  {
   "cell_type": "code",
   "execution_count": 141,
   "metadata": {},
   "outputs": [
    {
     "name": "stdout",
     "output_type": "stream",
     "text": [
      "(794, 1)\n",
      "(794, 784)\n",
      "(794, 784)\n",
      "(100, 794)\n",
      "(794, 784)\n",
      "(100, 784)\n",
      "(784, 1)\n"
     ]
    },
    {
     "data": {
      "image/png": "[encoded data removed]",
      "text/plain": [
       "<Figure size 600x400 with 2 Axes>"
      ]
     },
     "metadata": {},
     "output_type": "display_data"
    },
    {
     "data": {
      "image/png": "[encoded data removed]",
      "text/plain": [
       "<Figure size 600x400 with 2 Axes>"
      ]
     },
     "metadata": {},
     "output_type": "display_data"
    },
    {
     "data": {
      "image/png": "[encoded data removed]",
      "text/plain": [
       "<Figure size 600x400 with 2 Axes>"
      ]
     },
     "metadata": {},
     "output_type": "display_data"
    },
    {
     "data": {
      "image/png": "[encoded data removed]",
      "text/plain": [
       "<Figure size 600x400 with 2 Axes>"
      ]
     },
     "metadata": {},
     "output_type": "display_data"
    },
    {
     "data": {
      "image/png": "[encoded data removed]",
      "text/plain": [
       "<Figure size 600x400 with 2 Axes>"
      ]
     },
     "metadata": {},
     "output_type": "display_data"
    },
    {
     "data": {
      "image/png": "[encoded data removed]",
      "text/plain": [
       "<Figure size 600x400 with 2 Axes>"
      ]
     },
     "metadata": {},
     "output_type": "display_data"
    },
    {
     "data": {
      "image/png": "[encoded data removed]",
      "text/plain": [
       "<Figure size 600x400 with 2 Axes>"
      ]
     },
     "metadata": {},
     "output_type": "display_data"
    }
   ],
   "source": [
    "u=np.concatenate((np.random.normal(mu, sigma, (N, 1)), -np.ones((Nc,1))),axis=0)\n",
    "draw_mnist(u[:784, :].T, 1, 1)\n",
    "#u=-np.ones((N + Nc,1))\n",
    "beta=1 # set beta at 1\n",
    "u[-3, 0] = 1. # say that the right label is 7\n",
    "#u[-10, 0] = 1. # say that the right label is 0\n",
    "print(u.shape)\n",
    "uu=np.tile(u,(1,N))\n",
    "print(uu.shape)\n",
    "auxT=-np.ones((N,N))\n",
    "for d in range(N):\n",
    "    auxT[d,d:(d+1)]=1.\n",
    "vv=np.concatenate((auxT, uu[N:,:]),axis=0)\n",
    "print(vv.shape)\n",
    "KSvv=np.maximum(np.dot(KS,vv),0)\n",
    "KSuu=np.maximum(np.dot(KS,uu),0)\n",
    "print(KS.shape)\n",
    "print(vv.shape)\n",
    "print(KSvv.shape)\n",
    "Y=np.tanh(beta*np.sum(KSvv**n-KSuu**n, axis=0))  # Forward path, Eq 9\n",
    "Y_R=np.reshape(Y,(N,1))\n",
    "print(Y_R.shape)\n",
    "fig=plt.figure(figsize=(6,4))\n",
    "draw_mnist(Y_R.T, 1, 1)\n",
    "\n",
    "for _ in range(5):\n",
    "    \n",
    "    uu, vv = repeat_recall(Y_R, uu, N)\n",
    "    KSvv=np.maximum(np.dot(KS,vv),0)\n",
    "    KSuu=np.maximum(np.dot(KS,uu),0)\n",
    "    Y=np.tanh(beta*np.sum(KSvv**n-KSuu**n, axis=0))  # Forward path, Eq 9\n",
    "    Y_R=np.reshape(Y,(N,1))\n",
    "\n",
    "    fig=plt.figure(figsize=(6,4))\n",
    "    draw_mnist(Y_R.T, 1, 1)\n"
   ]
  },
  {
   "cell_type": "code",
   "execution_count": null,
   "metadata": {},
   "outputs": [],
   "source": []
  }
 ],
 "metadata": {
  "anaconda-cloud": {},
  "kernelspec": {
   "display_name": "Python 3 (ipykernel)",
   "language": "python",
   "name": "python3"
  },
  "language_info": {
   "codemirror_mode": {
    "name": "ipython",
    "version": 3
   },
   "file_extension": ".py",
   "mimetype": "text/x-python",
   "name": "python",
   "nbconvert_exporter": "python",
   "pygments_lexer": "ipython3",
   "version": "3.12.3"
  }
 },
 "nbformat": 4,
 "nbformat_minor": 4
}
